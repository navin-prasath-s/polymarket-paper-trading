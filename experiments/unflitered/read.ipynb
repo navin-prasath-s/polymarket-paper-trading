{
 "cells": [
  {
   "cell_type": "code",
   "id": "initial_id",
   "metadata": {
    "collapsed": true,
    "ExecuteTime": {
     "end_time": "2025-07-16T21:28:33.427924Z",
     "start_time": "2025-07-16T21:28:33.423734Z"
    }
   },
   "source": [
    "import sqlite3\n",
    "\n",
    "conn = sqlite3.connect(\"unfiltered_market.db\")\n",
    "cursor = conn.cursor()"
   ],
   "outputs": [],
   "execution_count": 6
  },
  {
   "metadata": {},
   "cell_type": "code",
   "outputs": [],
   "execution_count": null,
   "source": [
    "# cursor = conn.cursor()\n",
    "# cursor.execute(\"DELETE FROM new_markets_log\")\n",
    "# conn.commit()"
   ],
   "id": "c37b3fa4668f438f"
  },
  {
   "metadata": {
    "ExecuteTime": {
     "end_time": "2025-07-16T21:28:34.545268Z",
     "start_time": "2025-07-16T21:28:34.541155Z"
    }
   },
   "cell_type": "code",
   "source": [
    "cursor.execute(\"\"\"\n",
    "    SELECT * FROM state_changes_log\n",
    "    ORDER BY timestamp DESC\n",
    "    LIMIT 20\n",
    "\"\"\")\n",
    "\n",
    "rows = cursor.fetchall()\n",
    "\n",
    "for row in rows:\n",
    "    print(f\"{row[0]} | ID {row[1]} | Question {row[2]}\")\n",
    "    print(f\"States: {row[3]}: {row[4]} → {row[5]}\")\n",
    "    print()\n",
    "\n",
    "conn.close()"
   ],
   "id": "738268c85c30a82e",
   "outputs": [
    {
     "name": "stdout",
     "output_type": "stream",
     "text": [
      "2025-07-16T16:08:38.795789+00:00 | ID 0x5bdbe03e2573ed9898a83e4df65a19b1917696c31c8572cec7984bd04bab47cd | Question Bitcoin Up or Down - July 16, 10AM ET\n",
      "States enable_order_book: 1 → 0\n",
      "\n",
      "2025-07-16T16:08:38.795789+00:00 | ID 0x5bdbe03e2573ed9898a83e4df65a19b1917696c31c8572cec7984bd04bab47cd | Question Bitcoin Up or Down - July 16, 10AM ET\n",
      "States closed: 0 → 1\n",
      "\n",
      "2025-07-16T16:08:38.795789+00:00 | ID 0x5bdbe03e2573ed9898a83e4df65a19b1917696c31c8572cec7984bd04bab47cd | Question Bitcoin Up or Down - July 16, 10AM ET\n",
      "States accepting_orders: 1 → 0\n",
      "\n",
      "2025-07-16T16:08:38.795789+00:00 | ID 0xe3d6cdbb86de581e7b8ad7e0d3ff366ceb92e8118c0d02da40a10ffde64cafae | Question Ethereum Up or Down - July 16, 10AM ET\n",
      "States enable_order_book: 1 → 0\n",
      "\n",
      "2025-07-16T16:08:38.795789+00:00 | ID 0xe3d6cdbb86de581e7b8ad7e0d3ff366ceb92e8118c0d02da40a10ffde64cafae | Question Ethereum Up or Down - July 16, 10AM ET\n",
      "States closed: 0 → 1\n",
      "\n",
      "2025-07-16T16:08:38.795789+00:00 | ID 0xe3d6cdbb86de581e7b8ad7e0d3ff366ceb92e8118c0d02da40a10ffde64cafae | Question Ethereum Up or Down - July 16, 10AM ET\n",
      "States accepting_orders: 1 → 0\n",
      "\n",
      "2025-07-16T16:08:38.795789+00:00 | ID 0x1bd4c62c6a4a738df93d06bce8f67ec2054303fcb1f2dda08afc92cc1935a1b9 | Question Will Ethereum reach $3200 July 14–20?\n",
      "States enable_order_book: 1 → 0\n",
      "\n",
      "2025-07-16T16:08:38.795789+00:00 | ID 0x1bd4c62c6a4a738df93d06bce8f67ec2054303fcb1f2dda08afc92cc1935a1b9 | Question Will Ethereum reach $3200 July 14–20?\n",
      "States closed: 0 → 1\n",
      "\n",
      "2025-07-16T16:08:38.795789+00:00 | ID 0x1bd4c62c6a4a738df93d06bce8f67ec2054303fcb1f2dda08afc92cc1935a1b9 | Question Will Ethereum reach $3200 July 14–20?\n",
      "States accepting_orders: 1 → 0\n",
      "\n",
      "2025-07-16T16:08:38.795789+00:00 | ID 0xdc65465c5930725f8fc5ab157ab57563a05c93cc64e95aa6f70a9f9ab64a672e | Question XRP Up or Down - July 16, 10AM ET\n",
      "States enable_order_book: 1 → 0\n",
      "\n",
      "2025-07-16T16:08:38.795789+00:00 | ID 0xdc65465c5930725f8fc5ab157ab57563a05c93cc64e95aa6f70a9f9ab64a672e | Question XRP Up or Down - July 16, 10AM ET\n",
      "States closed: 0 → 1\n",
      "\n",
      "2025-07-16T16:08:38.795789+00:00 | ID 0xdc65465c5930725f8fc5ab157ab57563a05c93cc64e95aa6f70a9f9ab64a672e | Question XRP Up or Down - July 16, 10AM ET\n",
      "States accepting_orders: 1 → 0\n",
      "\n",
      "2025-07-16T16:02:24.262573+00:00 | ID 0xb1ab7b2db6bf8edea07df2783ab53ed8aa14ee8b49ee948f669842f8ba2d1ae3 | Question Will Mikael Ymer win the 2025 Nordea Open?\n",
      "States enable_order_book: 1 → 0\n",
      "\n",
      "2025-07-16T16:02:24.262573+00:00 | ID 0xb1ab7b2db6bf8edea07df2783ab53ed8aa14ee8b49ee948f669842f8ba2d1ae3 | Question Will Mikael Ymer win the 2025 Nordea Open?\n",
      "States closed: 0 → 1\n",
      "\n",
      "2025-07-16T16:02:24.262573+00:00 | ID 0xb1ab7b2db6bf8edea07df2783ab53ed8aa14ee8b49ee948f669842f8ba2d1ae3 | Question Will Mikael Ymer win the 2025 Nordea Open?\n",
      "States accepting_orders: 1 → 0\n",
      "\n",
      "2025-07-16T16:02:24.262573+00:00 | ID 0xc46fd80b8da25ffdb010775019c8c9dc875a38f2577957bb7e5b34dcd7d363a8 | Question Solana Up or Down - July 16, 10AM ET\n",
      "States enable_order_book: 1 → 0\n",
      "\n",
      "2025-07-16T16:02:24.262573+00:00 | ID 0xc46fd80b8da25ffdb010775019c8c9dc875a38f2577957bb7e5b34dcd7d363a8 | Question Solana Up or Down - July 16, 10AM ET\n",
      "States closed: 0 → 1\n",
      "\n",
      "2025-07-16T16:02:24.262573+00:00 | ID 0xc46fd80b8da25ffdb010775019c8c9dc875a38f2577957bb7e5b34dcd7d363a8 | Question Solana Up or Down - July 16, 10AM ET\n",
      "States accepting_orders: 1 → 0\n",
      "\n",
      "2025-07-16T16:02:24.262573+00:00 | ID 0xef1c8e61fb3008c41296043606cdbb93b28fb77f4aff06628ed464891e280f95 | Question Will the highest temperature in New York City be 83°F or below on July 16?\n",
      "States enable_order_book: 1 → 0\n",
      "\n",
      "2025-07-16T16:02:24.262573+00:00 | ID 0xef1c8e61fb3008c41296043606cdbb93b28fb77f4aff06628ed464891e280f95 | Question Will the highest temperature in New York City be 83°F or below on July 16?\n",
      "States closed: 0 → 1\n",
      "\n"
     ]
    }
   ],
   "execution_count": 7
  },
  {
   "metadata": {},
   "cell_type": "code",
   "outputs": [],
   "execution_count": null,
   "source": "",
   "id": "f354c4843d6d0415"
  }
 ],
 "metadata": {
  "kernelspec": {
   "display_name": "Python 3",
   "language": "python",
   "name": "python3"
  },
  "language_info": {
   "codemirror_mode": {
    "name": "ipython",
    "version": 2
   },
   "file_extension": ".py",
   "mimetype": "text/x-python",
   "name": "python",
   "nbconvert_exporter": "python",
   "pygments_lexer": "ipython2",
   "version": "2.7.6"
  }
 },
 "nbformat": 4,
 "nbformat_minor": 5
}
