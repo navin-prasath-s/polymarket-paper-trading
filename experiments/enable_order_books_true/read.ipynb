{
 "cells": [
  {
   "cell_type": "code",
   "id": "initial_id",
   "metadata": {
    "collapsed": true,
    "ExecuteTime": {
     "end_time": "2025-07-16T18:43:40.698691Z",
     "start_time": "2025-07-16T18:43:40.695692Z"
    }
   },
   "source": [
    "import sqlite3\n",
    "\n",
    "conn = sqlite3.connect(\"enable_order_book_true.db\")\n",
    "cursor = conn.cursor()"
   ],
   "outputs": [],
   "execution_count": 41
  },
  {
   "metadata": {
    "ExecuteTime": {
     "end_time": "2025-07-16T07:52:49.696739Z",
     "start_time": "2025-07-16T07:52:49.686740Z"
    }
   },
   "cell_type": "code",
   "source": [
    "# cursor = conn.cursor()\n",
    "# cursor.execute(\"DELETE FROM new_markets_log\")\n",
    "# conn.commit()"
   ],
   "id": "8ccdf986a2fe8095",
   "outputs": [],
   "execution_count": 13
  },
  {
   "metadata": {
    "ExecuteTime": {
     "end_time": "2025-07-16T18:41:51.097025Z",
     "start_time": "2025-07-16T18:41:51.092819Z"
    }
   },
   "cell_type": "code",
   "source": [
    "cursor.execute(\"SELECT COUNT(*) FROM markets\")\n",
    "print(cursor.fetchone())\n",
    "\n",
    "\n",
    "\n",
    "\n"
   ],
   "id": "88bda4558c49d0d2",
   "outputs": [
    {
     "name": "stdout",
     "output_type": "stream",
     "text": [
      "(4464,)\n"
     ]
    }
   ],
   "execution_count": 35
  },
  {
   "metadata": {
    "ExecuteTime": {
     "end_time": "2025-07-16T18:41:57.905452Z",
     "start_time": "2025-07-16T18:41:57.901441Z"
    }
   },
   "cell_type": "code",
   "source": [
    "cursor = conn.cursor()\n",
    "cursor.execute(\"SELECT * FROM removed_markets_log ORDER BY timestamp DESC LIMIT 5\")\n",
    "print(cursor.fetchall())\n",
    "conn.close()"
   ],
   "id": "8b2cdd426c4a40d7",
   "outputs": [
    {
     "name": "stdout",
     "output_type": "stream",
     "text": [
      "[('2025-07-16T16:07:42.511806+00:00', '0xe3d6cdbb86de581e7b8ad7e0d3ff366ceb92e8118c0d02da40a10ffde64cafae', 'ethereum-up-or-down-july-16-10am-et', 'Ethereum Up or Down - July 16, 10AM ET', 1, 1, 0, 0, 1, '[{\"token_id\": \"78391229449310519273888682828359931571961743524947975415071739466376892660668\", \"outcome\": \"Up\", \"price\": 0.9995, \"winner\": false}, {\"token_id\": \"106677253336272369129051469259291827399540084124067292198752015968867791259570\", \"outcome\": \"Down\", \"price\": 0.0005, \"winner\": false}]'), ('2025-07-16T16:07:42.511806+00:00', '0x5bdbe03e2573ed9898a83e4df65a19b1917696c31c8572cec7984bd04bab47cd', 'bitcoin-up-or-down-july-16-10am-et', 'Bitcoin Up or Down - July 16, 10AM ET', 1, 1, 0, 0, 1, '[{\"token_id\": \"95295998996158040287798329702684751290934645482144120096811248483522416412294\", \"outcome\": \"Up\", \"price\": 0.9995, \"winner\": false}, {\"token_id\": \"31962592799724483385434962381727298529956822547378341940980208462064851325975\", \"outcome\": \"Down\", \"price\": 0.0005, \"winner\": false}]'), ('2025-07-16T16:07:42.511806+00:00', '0xc46fd80b8da25ffdb010775019c8c9dc875a38f2577957bb7e5b34dcd7d363a8', 'solana-up-or-down-july-16-10am-et', 'Solana Up or Down - July 16, 10AM ET', 1, 1, 0, 0, 1, '[{\"token_id\": \"67085433933127935724388981960806074933035459384308604035720014103524361700843\", \"outcome\": \"Up\", \"price\": 0.9995, \"winner\": false}, {\"token_id\": \"98975430008360019878730416598813891121502047428227720399171531600344017386314\", \"outcome\": \"Down\", \"price\": 0.0005, \"winner\": false}]'), ('2025-07-16T16:07:42.511806+00:00', '0xdc65465c5930725f8fc5ab157ab57563a05c93cc64e95aa6f70a9f9ab64a672e', 'xrp-up-or-down-july-16-10am-et', 'XRP Up or Down - July 16, 10AM ET', 1, 1, 0, 0, 1, '[{\"token_id\": \"6786661062219404237005508092685017928529728446609914742568847890979662523137\", \"outcome\": \"Up\", \"price\": 0.9995, \"winner\": false}, {\"token_id\": \"9111237203152266578077276179522732296431270043863110624456007133794924576224\", \"outcome\": \"Down\", \"price\": 0.0005, \"winner\": false}]'), ('2025-07-16T16:01:26.110116+00:00', '0xb1ab7b2db6bf8edea07df2783ab53ed8aa14ee8b49ee948f669842f8ba2d1ae3', 'will-mikael-ymer-win-the-2025-nordea-open', 'Will Mikael Ymer win the 2025 Nordea Open?', 1, 1, 0, 0, 1, '[{\"token_id\": \"114487944287409998385673922632081853078650303749598941245677880790871494976111\", \"outcome\": \"Yes\", \"price\": 0.0005, \"winner\": false}, {\"token_id\": \"57720725630250558647548263823077891360748785960256378080347395298366904220497\", \"outcome\": \"No\", \"price\": 0.9995, \"winner\": false}]')]\n"
     ]
    }
   ],
   "execution_count": 36
  },
  {
   "metadata": {
    "ExecuteTime": {
     "end_time": "2025-07-16T18:43:42.600997Z",
     "start_time": "2025-07-16T18:43:42.597633Z"
    }
   },
   "cell_type": "code",
   "source": [
    "cursor = conn.cursor()\n",
    "cursor.execute(\"SELECT * FROM new_markets_log ORDER BY timestamp DESC LIMIT 10\")\n",
    "print(cursor.fetchall())\n",
    "conn.close()"
   ],
   "id": "7e258fd07378a993",
   "outputs": [
    {
     "name": "stdout",
     "output_type": "stream",
     "text": [
      "[('2025-07-16T15:17:41.335728+00:00', '0x04dbd14a4fbde4cf0de4a8f0be88ba85ecd33c131ecd0e5a3111421a51b05bd3', 'will-eugenio-surez-lead-the-mlb-in-home-runs', 'Will Eugenio Suárez lead the MLB in Home Runs?', 1, 1, 0, 0, 1, '[{\"token_id\": \"26741055990386781772755999978394786818675125979142134014026219179645201176852\", \"outcome\": \"Yes\", \"price\": 0.5, \"winner\": false}, {\"token_id\": \"67010255635458360193021438547007661074776517064789339991809746660287927492422\", \"outcome\": \"No\", \"price\": 0.5, \"winner\": false}]'), ('2025-07-16T14:45:12.064099+00:00', '0x2040d3d086aa415bc12f6d5ac74d0c1678e47b903545482e6b86b08a94e25724', 'will-ethereum-close-above-3600-on-july-31-881', 'Will Ethereum close above $3600 on July 31?', 1, 1, 0, 0, 1, '[{\"token_id\": \"\", \"outcome\": \"\", \"price\": 0.0, \"winner\": false}, {\"token_id\": \"\", \"outcome\": \"\", \"price\": 0.0, \"winner\": false}]'), ('2025-07-16T14:45:12.064099+00:00', '0x47170bca4aaa1174ab62609c23984ba2afcf2f0f4c76a5be1b8a85884783a638', 'will-ethereum-close-above-3400-on-july-31-863', 'Will Ethereum close above $3400 on July 31?', 1, 1, 0, 0, 1, '[{\"token_id\": \"\", \"outcome\": \"\", \"price\": 0.0, \"winner\": false}, {\"token_id\": \"\", \"outcome\": \"\", \"price\": 0.0, \"winner\": false}]'), ('2025-07-16T14:45:12.064099+00:00', '0x3a203b9b809378a9c4d0475ecee86005e828c05d426599fca79dd81c22cef75b', 'will-ethereum-close-above-3200-on-july-31-448-985', 'Will Ethereum close above $3200 on July 31?', 1, 1, 0, 0, 1, '[{\"token_id\": \"\", \"outcome\": \"\", \"price\": 0.0, \"winner\": false}, {\"token_id\": \"\", \"outcome\": \"\", \"price\": 0.0, \"winner\": false}]'), ('2025-07-16T14:32:50.630629+00:00', '0x31095fd4afeaae29a03fbeaa03a4f15c75ded2449b593431771397567ac413c1', 'league-of-legends-g2-esports-vs-flyquest', 'League of Legends: G2 Esports vs. FlyQuest', 1, 1, 0, 0, 1, '[{\"token_id\": \"\", \"outcome\": \"\", \"price\": 0.0, \"winner\": false}, {\"token_id\": \"\", \"outcome\": \"\", \"price\": 0.0, \"winner\": false}]'), ('2025-07-16T14:32:50.630629+00:00', '0xdd6068f18776116aaa963abcba8988679b7dac81a54bba14a1df33ec494ba1d1', 'will-ethereum-reach-3300-july-1420-922', 'Will Ethereum reach $3300 July 14–20?', 1, 1, 0, 0, 1, '[{\"token_id\": \"47207290272455988300821760689028258939907644525640676086642703740249729035114\", \"outcome\": \"Yes\", \"price\": 0.5, \"winner\": false}, {\"token_id\": \"58621894241699078992212125866119467239999772832613037142643783937945602167640\", \"outcome\": \"No\", \"price\": 0.5, \"winner\": false}]'), ('2025-07-16T14:32:50.630629+00:00', '0x057bad3015659afa558932cf873dc572898a3c6fae0c24aa77c0f26a65164084', 'syria-strikes-israel-before-by-friday', 'Syria strikes Israel by Friday?', 1, 1, 0, 0, 1, '[{\"token_id\": \"\", \"outcome\": \"\", \"price\": 0.0, \"winner\": false}, {\"token_id\": \"\", \"outcome\": \"\", \"price\": 0.0, \"winner\": false}]'), ('2025-07-16T14:32:50.630629+00:00', '0xa75afcc36603bf05b70ed58094b9b4a93ce79d564c377b5519ee17bb51d7974f', 'league-of-legends-cloud9-vs-furia', 'League of Legends: Cloud9 vs. FURIA', 1, 1, 0, 0, 1, '[{\"token_id\": \"\", \"outcome\": \"\", \"price\": 0.0, \"winner\": false}, {\"token_id\": \"\", \"outcome\": \"\", \"price\": 0.0, \"winner\": false}]'), ('2025-07-16T14:32:50.630629+00:00', '0x5d4a4b7c1f0949637af2232390db46c07f607b5baea0d7bbb5c7c3dafe10f429', 'another-israel-strike-on-damascus-by-july-31', 'Another Israel strike on Damascus by July 31?', 1, 1, 0, 0, 1, '[{\"token_id\": \"\", \"outcome\": \"\", \"price\": 0.0, \"winner\": false}, {\"token_id\": \"\", \"outcome\": \"\", \"price\": 0.0, \"winner\": false}]'), ('2025-07-16T14:26:41.632514+00:00', '0x87243d8bcfb1071fa273eb92256f7ddd4116270eb40b88f18878fad4ac190fa7', 'will-the-price-of-solana-be-between-170-and-175-on-july-23', 'Will the price of Solana be between $170 and $175 on July 23?', 1, 1, 0, 0, 1, '[{\"token_id\": \"\", \"outcome\": \"\", \"price\": 0.0, \"winner\": false}, {\"token_id\": \"\", \"outcome\": \"\", \"price\": 0.0, \"winner\": false}]')]\n"
     ]
    }
   ],
   "execution_count": 42
  },
  {
   "metadata": {
    "ExecuteTime": {
     "end_time": "2025-07-16T07:53:46.568278Z",
     "start_time": "2025-07-16T07:53:46.565266Z"
    }
   },
   "cell_type": "code",
   "source": "conn.close()",
   "id": "16738966527b4072",
   "outputs": [],
   "execution_count": 20
  },
  {
   "metadata": {
    "ExecuteTime": {
     "end_time": "2025-07-16T08:08:01.807901Z",
     "start_time": "2025-07-16T08:08:01.413950Z"
    }
   },
   "cell_type": "code",
   "source": "from py_clob_client.client import ClobClient",
   "id": "e00e0683820e4986",
   "outputs": [],
   "execution_count": 26
  },
  {
   "metadata": {
    "ExecuteTime": {
     "end_time": "2025-07-16T08:08:09.908176Z",
     "start_time": "2025-07-16T08:08:09.904885Z"
    }
   },
   "cell_type": "code",
   "source": [
    "host: str = \"https://clob.polymarket.com\"\n",
    "open_client: ClobClient = ClobClient(host=host)"
   ],
   "id": "4cb62a3f9723de31",
   "outputs": [],
   "execution_count": 27
  },
  {
   "metadata": {
    "ExecuteTime": {
     "end_time": "2025-07-16T08:11:32.458152Z",
     "start_time": "2025-07-16T08:11:32.273996Z"
    }
   },
   "cell_type": "code",
   "source": "open_client.get_market(\"0x162a26fa0195d82854d0da0f26ca59bdf520b747267b78ea4dbf63b748ebbb4b\")",
   "id": "fd30a14dc356c0da",
   "outputs": [
    {
     "data": {
      "text/plain": [
       "{'enable_order_book': False,\n",
       " 'active': True,\n",
       " 'closed': True,\n",
       " 'archived': False,\n",
       " 'accepting_orders': False,\n",
       " 'accepting_order_timestamp': '2025-07-15T19:44:34Z',\n",
       " 'minimum_order_size': 5,\n",
       " 'minimum_tick_size': 0.001,\n",
       " 'condition_id': '0x162a26fa0195d82854d0da0f26ca59bdf520b747267b78ea4dbf63b748ebbb4b',\n",
       " 'question_id': '0xf04a8c83dcdecf4e09e4ff68d31b6cb6630af77f545f33409174800d6c001901',\n",
       " 'question': 'MLB ASG: Will NL win by 1 run?',\n",
       " 'description': 'This is a market to predict the winning margin for the 2025 MLB All-Star Game, scheduled for July 15, 2025.\\n\\nIf the listed winning margin occurs in the MLB All-Star Game, this market will resolve to \"Yes\". Otherwise, it will resolve to \"No\".\\n\\nIf the 2025 MLB All-Star Game has not been completed by December 31, 2025, 11:59 PM ET, this market will resolve to \"Other\".\\n\\nThe resolution source for this market will be MLB.com; however, a consensus of credible reporting may also be used.',\n",
       " 'market_slug': 'mlb-asg-will-nl-win-by-1-run',\n",
       " 'end_date_iso': '2025-07-16T00:00:00Z',\n",
       " 'game_start_time': '2025-07-16T05:27:00Z',\n",
       " 'seconds_delay': 0,\n",
       " 'fpmm': '',\n",
       " 'maker_base_fee': 0,\n",
       " 'taker_base_fee': 0,\n",
       " 'notifications_enabled': True,\n",
       " 'neg_risk': True,\n",
       " 'neg_risk_market_id': '0xf04a8c83dcdecf4e09e4ff68d31b6cb6630af77f545f33409174800d6c001900',\n",
       " 'neg_risk_request_id': '0x9530afc5ade7ec1f6141a60fe564795387eb3a4bd45d91ee5aa8104f24a6f929',\n",
       " 'icon': 'https://polymarket-upload.s3.us-east-2.amazonaws.com/mlb-all-star-game-winner-556-JgzyRH73qBap.jpg',\n",
       " 'image': 'https://polymarket-upload.s3.us-east-2.amazonaws.com/mlb-all-star-game-winner-556-JgzyRH73qBap.jpg',\n",
       " 'rewards': {'rates': None, 'min_size': 0, 'max_spread': 0},\n",
       " 'is_50_50_outcome': False,\n",
       " 'tokens': [{'token_id': '38602027649918879467280643139460201077819556522404217062381139667539829534675',\n",
       "   'outcome': 'Yes',\n",
       "   'price': 0,\n",
       "   'winner': False},\n",
       "  {'token_id': '15626335875962858412257234172791694954567063947082608777205059006007720690159',\n",
       "   'outcome': 'No',\n",
       "   'price': 1,\n",
       "   'winner': True}],\n",
       " 'tags': ['Sports', 'MLB', 'MLB All-Star Game', 'MLB ASG', 'Hide From New']}"
      ]
     },
     "execution_count": 29,
     "metadata": {},
     "output_type": "execute_result"
    }
   ],
   "execution_count": 29
  },
  {
   "metadata": {
    "ExecuteTime": {
     "end_time": "2025-07-16T08:14:29.804385Z",
     "start_time": "2025-07-16T08:14:29.801116Z"
    }
   },
   "cell_type": "code",
   "source": [
    "# When some market is removed from API + my filter:\n",
    "# Enable_order_book is switched to False\n",
    "# active is still true\n",
    "# closed s switched to true\n",
    "# accepting_orders is switched to false\n",
    "# Also in tokens one of them has winner = true -> clear indication that market is resolved\n",
    "# Also removed from UI"
   ],
   "id": "b1301a243442d70",
   "outputs": [],
   "execution_count": 30
  },
  {
   "metadata": {},
   "cell_type": "code",
   "outputs": [],
   "execution_count": null,
   "source": "",
   "id": "1a17cbf22579fe87"
  }
 ],
 "metadata": {
  "kernelspec": {
   "display_name": "Python 3",
   "language": "python",
   "name": "python3"
  },
  "language_info": {
   "codemirror_mode": {
    "name": "ipython",
    "version": 2
   },
   "file_extension": ".py",
   "mimetype": "text/x-python",
   "name": "python",
   "nbconvert_exporter": "python",
   "pygments_lexer": "ipython2",
   "version": "2.7.6"
  }
 },
 "nbformat": 4,
 "nbformat_minor": 5
}
