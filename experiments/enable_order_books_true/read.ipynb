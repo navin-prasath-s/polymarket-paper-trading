{
 "cells": [
  {
   "cell_type": "code",
   "id": "initial_id",
   "metadata": {
    "collapsed": true,
    "ExecuteTime": {
     "end_time": "2025-07-16T08:18:48.160941Z",
     "start_time": "2025-07-16T08:18:48.157512Z"
    }
   },
   "source": [
    "import sqlite3\n",
    "\n",
    "conn = sqlite3.connect(\"enable_order_book_true.db\")\n",
    "cursor = conn.cursor()"
   ],
   "outputs": [],
   "execution_count": 32
  },
  {
   "metadata": {
    "ExecuteTime": {
     "end_time": "2025-07-16T07:52:49.696739Z",
     "start_time": "2025-07-16T07:52:49.686740Z"
    }
   },
   "cell_type": "code",
   "source": [
    "cursor = conn.cursor()\n",
    "cursor.execute(\"DELETE FROM new_markets_log\")\n",
    "conn.commit()"
   ],
   "id": "8ccdf986a2fe8095",
   "outputs": [],
   "execution_count": 13
  },
  {
   "metadata": {
    "ExecuteTime": {
     "end_time": "2025-07-16T07:53:38.272913Z",
     "start_time": "2025-07-16T07:53:38.268906Z"
    }
   },
   "cell_type": "code",
   "source": [
    "cursor.execute(\"SELECT COUNT(*) FROM markets\")\n",
    "print(cursor.fetchone())\n",
    "\n",
    "\n",
    "\n",
    "\n"
   ],
   "id": "88bda4558c49d0d2",
   "outputs": [
    {
     "name": "stdout",
     "output_type": "stream",
     "text": [
      "(4382,)\n"
     ]
    }
   ],
   "execution_count": 19
  },
  {
   "metadata": {
    "ExecuteTime": {
     "end_time": "2025-07-16T08:18:50.082172Z",
     "start_time": "2025-07-16T08:18:50.078171Z"
    }
   },
   "cell_type": "code",
   "source": [
    "cursor = conn.cursor()\n",
    "cursor.execute(\"SELECT * FROM removed_markets_log ORDER BY timestamp DESC LIMIT 5\")\n",
    "print(cursor.fetchall())\n",
    "conn.close()"
   ],
   "id": "8b2cdd426c4a40d7",
   "outputs": [
    {
     "name": "stdout",
     "output_type": "stream",
     "text": [
      "[('2025-07-16T08:10:26.563695+00:00', '0x4c996b2b296109c862d2d8a8c50222af080b903d206e07a992fb16d5f6547ccc', 'will-donald-trump-issue-40-or-more-executive-orders-in-june', 'Will Donald Trump issue 40 or more executive orders in June?', 1, 1, 0, 0, 1, '[{\"token_id\": \"80836885819038117356771616342885832961701656856287691403161269051599203345944\", \"outcome\": \"Yes\", \"price\": 0.0005, \"winner\": false}, {\"token_id\": \"97962259664361743127402615985189732817763097225488028012659130620052868588974\", \"outcome\": \"No\", \"price\": 0.9995, \"winner\": false}]'), ('2025-07-16T08:04:10.525880+00:00', '0xc7b408375484dc9132fae3c29b43231de6780e341701e025b59f96e6c5f355c6', 'will-the-highest-temperature-in-new-york-city-be-between-90-91f-on-july-15', 'Will the highest temperature in New York City be between 90-91°F on July 15?', 1, 1, 0, 0, 1, '[{\"token_id\": \"28289287721434462474428510731197322909525967736622544647396400415255380378107\", \"outcome\": \"Yes\", \"price\": 0.0005, \"winner\": false}, {\"token_id\": \"104233584052568248193618155607105514685465071929205664785896433763371837446558\", \"outcome\": \"No\", \"price\": 0.9995, \"winner\": false}]'), ('2025-07-16T08:04:10.525880+00:00', '0x5969c3d0be4597a9caa2b9d7df854b983b2420a60ca8f2695fdb26751dd9414b', 'will-the-highest-temperature-in-new-york-city-be-between-88-89f-on-july-15', 'Will the highest temperature in New York City be between 88-89°F on July 15?', 1, 1, 0, 0, 1, '[{\"token_id\": \"20356126213986378668197411311751212935294487334641254685068589451381228075565\", \"outcome\": \"Yes\", \"price\": 0.0005, \"winner\": false}, {\"token_id\": \"35337254506545890742656038282571372765619189118978025714258376239260238848128\", \"outcome\": \"No\", \"price\": 0.9995, \"winner\": false}]'), ('2025-07-16T08:04:10.525880+00:00', '0x3d3b0907b2b2b8e2d47f6e113ad574b1eb3464880992052e1dd3920134f9d349', 'ethereum-up-or-down-july-16-2am-et', 'Ethereum Up or Down - July 16, 2AM ET', 1, 1, 0, 0, 1, '[{\"token_id\": \"24014061446815637709107362421306695754321357508087986227131693090238609344285\", \"outcome\": \"Up\", \"price\": 0.9995, \"winner\": false}, {\"token_id\": \"64512491426973434935926629618053578929497719884250786093069182152341099697423\", \"outcome\": \"Down\", \"price\": 0.0005, \"winner\": false}]'), ('2025-07-16T08:04:10.525880+00:00', '0xb91f7875336c8736d7c99813c06a7d195cc0b7a7b71d6dbb4d32b41282be91c2', 'bitcoin-up-or-down-july-16-2am-et', 'Bitcoin Up or Down - July 16, 2AM ET', 1, 1, 0, 0, 1, '[{\"token_id\": \"16305308252018295481621935518437330337109392287891439364106970779285644344375\", \"outcome\": \"Up\", \"price\": 0.9995, \"winner\": false}, {\"token_id\": \"104738720201576480131504586409030687233809116135249396132126969887183403041148\", \"outcome\": \"Down\", \"price\": 0.0005, \"winner\": false}]')]\n"
     ]
    }
   ],
   "execution_count": 33
  },
  {
   "metadata": {
    "ExecuteTime": {
     "end_time": "2025-07-16T07:53:46.568278Z",
     "start_time": "2025-07-16T07:53:46.565266Z"
    }
   },
   "cell_type": "code",
   "source": "conn.close()",
   "id": "16738966527b4072",
   "outputs": [],
   "execution_count": 20
  },
  {
   "metadata": {
    "ExecuteTime": {
     "end_time": "2025-07-16T08:08:01.807901Z",
     "start_time": "2025-07-16T08:08:01.413950Z"
    }
   },
   "cell_type": "code",
   "source": "from py_clob_client.client import ClobClient",
   "id": "e00e0683820e4986",
   "outputs": [],
   "execution_count": 26
  },
  {
   "metadata": {
    "ExecuteTime": {
     "end_time": "2025-07-16T08:08:09.908176Z",
     "start_time": "2025-07-16T08:08:09.904885Z"
    }
   },
   "cell_type": "code",
   "source": [
    "host: str = \"https://clob.polymarket.com\"\n",
    "open_client: ClobClient = ClobClient(host=host)"
   ],
   "id": "4cb62a3f9723de31",
   "outputs": [],
   "execution_count": 27
  },
  {
   "metadata": {
    "ExecuteTime": {
     "end_time": "2025-07-16T08:11:32.458152Z",
     "start_time": "2025-07-16T08:11:32.273996Z"
    }
   },
   "cell_type": "code",
   "source": "open_client.get_market(\"0x162a26fa0195d82854d0da0f26ca59bdf520b747267b78ea4dbf63b748ebbb4b\")",
   "id": "fd30a14dc356c0da",
   "outputs": [
    {
     "data": {
      "text/plain": [
       "{'enable_order_book': False,\n",
       " 'active': True,\n",
       " 'closed': True,\n",
       " 'archived': False,\n",
       " 'accepting_orders': False,\n",
       " 'accepting_order_timestamp': '2025-07-15T19:44:34Z',\n",
       " 'minimum_order_size': 5,\n",
       " 'minimum_tick_size': 0.001,\n",
       " 'condition_id': '0x162a26fa0195d82854d0da0f26ca59bdf520b747267b78ea4dbf63b748ebbb4b',\n",
       " 'question_id': '0xf04a8c83dcdecf4e09e4ff68d31b6cb6630af77f545f33409174800d6c001901',\n",
       " 'question': 'MLB ASG: Will NL win by 1 run?',\n",
       " 'description': 'This is a market to predict the winning margin for the 2025 MLB All-Star Game, scheduled for July 15, 2025.\\n\\nIf the listed winning margin occurs in the MLB All-Star Game, this market will resolve to \"Yes\". Otherwise, it will resolve to \"No\".\\n\\nIf the 2025 MLB All-Star Game has not been completed by December 31, 2025, 11:59 PM ET, this market will resolve to \"Other\".\\n\\nThe resolution source for this market will be MLB.com; however, a consensus of credible reporting may also be used.',\n",
       " 'market_slug': 'mlb-asg-will-nl-win-by-1-run',\n",
       " 'end_date_iso': '2025-07-16T00:00:00Z',\n",
       " 'game_start_time': '2025-07-16T05:27:00Z',\n",
       " 'seconds_delay': 0,\n",
       " 'fpmm': '',\n",
       " 'maker_base_fee': 0,\n",
       " 'taker_base_fee': 0,\n",
       " 'notifications_enabled': True,\n",
       " 'neg_risk': True,\n",
       " 'neg_risk_market_id': '0xf04a8c83dcdecf4e09e4ff68d31b6cb6630af77f545f33409174800d6c001900',\n",
       " 'neg_risk_request_id': '0x9530afc5ade7ec1f6141a60fe564795387eb3a4bd45d91ee5aa8104f24a6f929',\n",
       " 'icon': 'https://polymarket-upload.s3.us-east-2.amazonaws.com/mlb-all-star-game-winner-556-JgzyRH73qBap.jpg',\n",
       " 'image': 'https://polymarket-upload.s3.us-east-2.amazonaws.com/mlb-all-star-game-winner-556-JgzyRH73qBap.jpg',\n",
       " 'rewards': {'rates': None, 'min_size': 0, 'max_spread': 0},\n",
       " 'is_50_50_outcome': False,\n",
       " 'tokens': [{'token_id': '38602027649918879467280643139460201077819556522404217062381139667539829534675',\n",
       "   'outcome': 'Yes',\n",
       "   'price': 0,\n",
       "   'winner': False},\n",
       "  {'token_id': '15626335875962858412257234172791694954567063947082608777205059006007720690159',\n",
       "   'outcome': 'No',\n",
       "   'price': 1,\n",
       "   'winner': True}],\n",
       " 'tags': ['Sports', 'MLB', 'MLB All-Star Game', 'MLB ASG', 'Hide From New']}"
      ]
     },
     "execution_count": 29,
     "metadata": {},
     "output_type": "execute_result"
    }
   ],
   "execution_count": 29
  },
  {
   "metadata": {
    "ExecuteTime": {
     "end_time": "2025-07-16T08:14:29.804385Z",
     "start_time": "2025-07-16T08:14:29.801116Z"
    }
   },
   "cell_type": "code",
   "source": [
    "# When some market is removed from API + my filter:\n",
    "# Enable_order_book is switched to False\n",
    "# active is still true\n",
    "# closed s switched to true\n",
    "# accepting_orders is switched to false\n",
    "# Also in tokens one of them has winner = true -> clear indication that market is resolved\n",
    "# Also removed from UI"
   ],
   "id": "b1301a243442d70",
   "outputs": [],
   "execution_count": 30
  },
  {
   "metadata": {},
   "cell_type": "code",
   "outputs": [],
   "execution_count": null,
   "source": "",
   "id": "1a17cbf22579fe87"
  }
 ],
 "metadata": {
  "kernelspec": {
   "display_name": "Python 3",
   "language": "python",
   "name": "python3"
  },
  "language_info": {
   "codemirror_mode": {
    "name": "ipython",
    "version": 2
   },
   "file_extension": ".py",
   "mimetype": "text/x-python",
   "name": "python",
   "nbconvert_exporter": "python",
   "pygments_lexer": "ipython2",
   "version": "2.7.6"
  }
 },
 "nbformat": 4,
 "nbformat_minor": 5
}
