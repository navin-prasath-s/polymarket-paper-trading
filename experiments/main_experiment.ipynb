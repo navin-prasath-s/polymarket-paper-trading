{
 "cells": [
  {
   "metadata": {
    "ExecuteTime": {
     "end_time": "2025-07-14T18:08:10.187558Z",
     "start_time": "2025-07-14T18:08:10.174173Z"
    }
   },
   "cell_type": "code",
   "source": [
    "%load_ext autoreload\n",
    "%autoreload 2\n",
    "\n",
    "from py_clob_client.client import ClobClient\n",
    "\n",
    "import json\n",
    "import httpx\n",
    "\n",
    "from clob_model import ClobModel\n",
    "from gamma_model import GammaModel\n"
   ],
   "id": "6206f5d3f70884a0",
   "outputs": [
    {
     "name": "stdout",
     "output_type": "stream",
     "text": [
      "The autoreload extension is already loaded. To reload it, use:\n",
      "  %reload_ext autoreload\n"
     ]
    }
   ],
   "execution_count": 8
  },
  {
   "metadata": {},
   "cell_type": "markdown",
   "source": "# Creating pydantic model",
   "id": "bfbcdf6331b6bc0b"
  },
  {
   "metadata": {
    "ExecuteTime": {
     "end_time": "2025-07-14T18:08:10.410825Z",
     "start_time": "2025-07-14T18:08:10.398260Z"
    }
   },
   "cell_type": "code",
   "source": [
    "host: str = \"https://clob.polymarket.com\"\n",
    "open_client: ClobClient = ClobClient(host=host)"
   ],
   "id": "61f5c5624cdb88dc",
   "outputs": [],
   "execution_count": 9
  },
  {
   "metadata": {
    "ExecuteTime": {
     "end_time": "2025-07-14T18:15:00.189570Z",
     "start_time": "2025-07-14T18:13:44.691066Z"
    }
   },
   "cell_type": "code",
   "source": [
    "start_cursor = \"MA==\"\n",
    "end_cursor = \"LTE=\"\n",
    "all_markets = []\n",
    "\n",
    "next_cursor = start_cursor\n",
    "while next_cursor != \"LTE=\":\n",
    "    response = open_client.get_markets(next_cursor=next_cursor)\n",
    "\n",
    "    markets = response.get(\"data\", [])\n",
    "    all_markets.extend(markets)\n",
    "\n",
    "    # Update cursor\n",
    "    next_cursor = response.get(\"next_cursor\")"
   ],
   "id": "be46d4dd732e929e",
   "outputs": [],
   "execution_count": 28
  },
  {
   "metadata": {
    "ExecuteTime": {
     "end_time": "2025-07-14T18:09:27.152Z",
     "start_time": "2025-07-14T18:09:27.129692Z"
    }
   },
   "cell_type": "code",
   "source": "len(all_markets)",
   "id": "850c669da38f4db8",
   "outputs": [
    {
     "data": {
      "text/plain": [
       "69643"
      ]
     },
     "execution_count": 11,
     "metadata": {},
     "output_type": "execute_result"
    }
   ],
   "execution_count": 11
  },
  {
   "metadata": {
    "ExecuteTime": {
     "end_time": "2025-07-14T18:09:28.161592Z",
     "start_time": "2025-07-14T18:09:28.137518Z"
    }
   },
   "cell_type": "code",
   "source": "all_markets[0]",
   "id": "adc5721c75b0beea",
   "outputs": [
    {
     "data": {
      "text/plain": [
       "{'enable_order_book': False,\n",
       " 'active': True,\n",
       " 'closed': True,\n",
       " 'archived': False,\n",
       " 'accepting_orders': False,\n",
       " 'accepting_order_timestamp': None,\n",
       " 'minimum_order_size': 15,\n",
       " 'minimum_tick_size': 0.01,\n",
       " 'condition_id': '0x9deb0baac40648821f96f01339229a422e2f5c877de55dc4dbf981f95a1e709c',\n",
       " 'question_id': '0x956f72c01c11615250489a2fcd22dbebdc1d0da86c3f090c28a368dfee714d07',\n",
       " 'question': 'NFL Saturday: Chiefs vs. Raiders',\n",
       " 'description': 'In the upcoming NFL game scheduled for January 7, 2023:\\n\\nIf the Kansas City Chiefs win, this market will resolve to \"Chiefs\".\\n\\nIf the Las Vegas Raiders win, this market will resolve to \"Raiders\".\\n\\nIf this game ends in a tie, this market will resolve 50-50. If this game is not completed by January 15, 2023, 11:59:59 PM ET, this market will resolve 50-50.',\n",
       " 'market_slug': 'nfl-saturday-chiefs-vs-raiders',\n",
       " 'end_date_iso': '2023-01-07T00:00:00Z',\n",
       " 'game_start_time': '2023-01-07T21:30:00Z',\n",
       " 'seconds_delay': 3,\n",
       " 'fpmm': '0xb6577bdC2D74A7A50FA43fB91d7283E05cd625a4',\n",
       " 'maker_base_fee': 0,\n",
       " 'taker_base_fee': 0,\n",
       " 'notifications_enabled': True,\n",
       " 'neg_risk': False,\n",
       " 'neg_risk_market_id': '',\n",
       " 'neg_risk_request_id': '',\n",
       " 'icon': 'https://polymarket-upload.s3.us-east-2.amazonaws.com/nfl.png',\n",
       " 'image': 'https://polymarket-upload.s3.us-east-2.amazonaws.com/nfl.png',\n",
       " 'rewards': {'rates': None, 'min_size': 0, 'max_spread': 0},\n",
       " 'is_50_50_outcome': False,\n",
       " 'tokens': [{'token_id': '14270523446080509320829200481895961480205553513304203367521919818541658424782',\n",
       "   'outcome': 'Chiefs',\n",
       "   'price': 1,\n",
       "   'winner': False},\n",
       "  {'token_id': '93110170397161149119544349457822484949376809039410140245101963942162463626903',\n",
       "   'outcome': 'Raiders',\n",
       "   'price': 0,\n",
       "   'winner': False}],\n",
       " 'tags': ['All']}"
      ]
     },
     "execution_count": 12,
     "metadata": {},
     "output_type": "execute_result"
    }
   ],
   "execution_count": 12
  },
  {
   "metadata": {
    "ExecuteTime": {
     "end_time": "2025-07-14T18:09:29.185841Z",
     "start_time": "2025-07-14T18:09:29.161872Z"
    }
   },
   "cell_type": "code",
   "source": [
    "with open(\"clob.json\", \"w\") as f:\n",
    "    json.dump(all_markets[0], f, indent=2)"
   ],
   "id": "7684f90cd929540d",
   "outputs": [],
   "execution_count": 13
  },
  {
   "metadata": {
    "ExecuteTime": {
     "end_time": "2025-07-14T16:12:22.857033Z",
     "start_time": "2025-07-14T16:12:21.183392Z"
    }
   },
   "cell_type": "code",
   "source": "!datamodel-codegen --input clob.json --input-file-type json --output clob_model.py",
   "id": "f5555b2856ba9cc6",
   "outputs": [],
   "execution_count": 159
  },
  {
   "metadata": {
    "ExecuteTime": {
     "end_time": "2025-07-14T18:17:42.325393Z",
     "start_time": "2025-07-14T18:17:41.913940Z"
    }
   },
   "cell_type": "code",
   "source": [
    "for i, item in enumerate(all_markets):\n",
    "    try:\n",
    "        market_obj = ClobModel(**item)\n",
    "    except Exception as e:\n",
    "        print(f\"Validation error at index {i}\")\n",
    "        print(e)\n",
    "        break"
   ],
   "id": "8364f1115c81055b",
   "outputs": [],
   "execution_count": 29
  },
  {
   "metadata": {
    "ExecuteTime": {
     "end_time": "2025-07-14T18:17:44.645337Z",
     "start_time": "2025-07-14T18:17:44.631811Z"
    }
   },
   "cell_type": "code",
   "source": "all_markets[6747][\"rewards\"]",
   "id": "1f6602ac66226eb9",
   "outputs": [
    {
     "data": {
      "text/plain": [
       "{'rates': [{'asset_address': '0x2791Bca1f2de4661ED88A30C99A7a9449Aa84174',\n",
       "   'rewards_daily_rate': 1.5}],\n",
       " 'min_size': 200,\n",
       " 'max_spread': 3.5}"
      ]
     },
     "execution_count": 30,
     "metadata": {},
     "output_type": "execute_result"
    }
   ],
   "execution_count": 30
  },
  {
   "metadata": {
    "ExecuteTime": {
     "end_time": "2025-07-14T17:02:57.056116Z",
     "start_time": "2025-07-14T17:02:57.026054Z"
    }
   },
   "cell_type": "code",
   "source": [
    "live_markets = [\n",
    "    m for m in all_markets\n",
    "    if m[\"active\"] and not m[\"closed\"] and m[\"accepting_orders\"]\n",
    "]\n",
    "live_markets[0]"
   ],
   "id": "8ad46baa4eff756c",
   "outputs": [
    {
     "data": {
      "text/plain": [
       "{'enable_order_book': True,\n",
       " 'active': True,\n",
       " 'closed': False,\n",
       " 'archived': False,\n",
       " 'accepting_orders': True,\n",
       " 'accepting_order_timestamp': '2024-11-10T00:04:33Z',\n",
       " 'minimum_order_size': 5,\n",
       " 'minimum_tick_size': 0.001,\n",
       " 'condition_id': '0x290e8e125c5f8523f21500cc59c186f2c23762da51eec212c9dd956e5dabae3b',\n",
       " 'question_id': '0x2eef1660dff726147edcea90979db633b93121d75a1c95ec122157f6a481c225',\n",
       " 'question': 'Will Trump repeal Presidential term limits?',\n",
       " 'description': 'This market will resolve to \"Yes\" if Donald Trump signs any bill into law that aims to repeal or alter presidential term limits as defined by the 22nd Amendment to the U.S. Constitution, or if the U.S. Supreme Court rules in a way that would permit a president to serve more than two terms by July 31, 2025, at 11:59 PM ET. Otherwise, this market will resolve to \"No.\"\\n\\nAny law signed meeting these criteria will count, even if its implementation is immediately halted or delayed by judicial or other actions.\\n\\nThis market\\'s resolution source will be official information from the Trump administration and U.S. Supreme Court decisions.',\n",
       " 'market_slug': 'will-trump-repeal-presidential-term-limits',\n",
       " 'end_date_iso': '2025-07-31T00:00:00Z',\n",
       " 'game_start_time': None,\n",
       " 'seconds_delay': 0,\n",
       " 'fpmm': '',\n",
       " 'maker_base_fee': 0,\n",
       " 'taker_base_fee': 0,\n",
       " 'notifications_enabled': True,\n",
       " 'neg_risk': False,\n",
       " 'neg_risk_market_id': '',\n",
       " 'neg_risk_request_id': '',\n",
       " 'icon': 'https://polymarket-upload.s3.us-east-2.amazonaws.com/will-trump-repeal-presidential-term-limits-14dlGjvYLT-x.jpg',\n",
       " 'image': 'https://polymarket-upload.s3.us-east-2.amazonaws.com/will-trump-repeal-presidential-term-limits-14dlGjvYLT-x.jpg',\n",
       " 'rewards': {'rates': [{'asset_address': '0x2791Bca1f2de4661ED88A30C99A7a9449Aa84174',\n",
       "    'rewards_daily_rate': 5}],\n",
       "  'min_size': 50,\n",
       "  'max_spread': 3.5},\n",
       " 'is_50_50_outcome': False,\n",
       " 'tokens': [{'token_id': '3796961984592683047724333059166286679049912327822267416870816733710637507501',\n",
       "   'outcome': 'Yes',\n",
       "   'price': 0.01,\n",
       "   'winner': False},\n",
       "  {'token_id': '49752777464497901629052143796178209174998482502782303100115062016623520813466',\n",
       "   'outcome': 'No',\n",
       "   'price': 0.99,\n",
       "   'winner': False}],\n",
       " 'tags': ['Trump',\n",
       "  'Trump Presidency',\n",
       "  'Politics',\n",
       "  'Trending Markets',\n",
       "  'U.S. Politics']}"
      ]
     },
     "execution_count": 61,
     "metadata": {},
     "output_type": "execute_result"
    }
   ],
   "execution_count": 61
  },
  {
   "metadata": {
    "ExecuteTime": {
     "end_time": "2025-07-14T18:05:25.879760Z",
     "start_time": "2025-07-14T18:03:31.697821Z"
    }
   },
   "cell_type": "code",
   "source": [
    "host_gamma: str = \"https://gamma-api.polymarket.com/markets\"\n",
    "limit = 500\n",
    "offset = 0\n",
    "all_markets_gamma = []\n",
    "\n",
    "while True:\n",
    "    url = f\"{host_gamma}?limit={limit}&offset={offset}\"\n",
    "    resp = httpx.get(url)\n",
    "    data = resp.json()\n",
    "\n",
    "    if not data:  # empty list means no more markets\n",
    "        break\n",
    "\n",
    "    all_markets_gamma.extend(data)\n",
    "    offset += limit\n"
   ],
   "id": "5302979652c66a1a",
   "outputs": [],
   "execution_count": 2
  },
  {
   "metadata": {
    "ExecuteTime": {
     "end_time": "2025-07-14T18:05:25.909301Z",
     "start_time": "2025-07-14T18:05:25.894784Z"
    }
   },
   "cell_type": "code",
   "source": "len(all_markets_gamma)",
   "id": "f269b5714dc7ac73",
   "outputs": [
    {
     "data": {
      "text/plain": [
       "63360"
      ]
     },
     "execution_count": 3,
     "metadata": {},
     "output_type": "execute_result"
    }
   ],
   "execution_count": 3
  },
  {
   "metadata": {
    "ExecuteTime": {
     "end_time": "2025-07-14T18:05:25.935222Z",
     "start_time": "2025-07-14T18:05:25.920199Z"
    }
   },
   "cell_type": "code",
   "source": "all_markets_gamma[0]",
   "id": "f10094e348bc4f31",
   "outputs": [
    {
     "data": {
      "text/plain": [
       "{'id': '12',\n",
       " 'question': 'Will Joe Biden get Coronavirus before the election?',\n",
       " 'conditionId': '0xe3b423dfad8c22ff75c9899c4e8176f628cf4ad4caa00481764d320e7415f7a9',\n",
       " 'slug': 'will-joe-biden-get-coronavirus-before-the-election',\n",
       " 'twitterCardImage': 'https://polymarket-static.s3.us-east-2.amazonaws.com/polymarket-twitter-card.png',\n",
       " 'endDate': '2020-11-04T00:00:00Z',\n",
       " 'category': 'US-current-affairs',\n",
       " 'liquidity': '0',\n",
       " 'image': 'https://polymarket-upload.s3.us-east-2.amazonaws.com/will-joe-biden-get-coronavirus-before-the-election-5a3d4c3b-0a73-419e-a686-be034d2c73ac.png',\n",
       " 'icon': 'https://polymarket-upload.s3.us-east-2.amazonaws.com/will-joe-biden-get-coronavirus-before-the-election-5a3d4c3b-0a73-419e-a686-be034d2c73ac.png',\n",
       " 'description': 'This is a market on if presidential candidate Joe Biden will test positive for COVID-19 before November 3rd, 2020. This will be defined as Joe publicly announcing - via any medium, including social media - that he has tested positive for COVID-19, or some variation of that statement. If it is in reference to antibodies, or he doesn’t publicly acknowledge it, the market will resolve to No.\\nIn the event of ambiguity in terms of the market outcome, the market will be resolved at the sole discretion of the Markets Integrity Committee (MIC).',\n",
       " 'outcomes': '[\"Yes\", \"No\"]',\n",
       " 'outcomePrices': '[\"0\", \"0\"]',\n",
       " 'volume': '32257.445115',\n",
       " 'active': True,\n",
       " 'marketType': 'normal',\n",
       " 'closed': True,\n",
       " 'marketMakerAddress': '0x8BD6C3D7a57D650A1870dd338234f90051fe9918',\n",
       " 'updatedBy': 9,\n",
       " 'createdAt': '2020-10-02T16:10:01.467Z',\n",
       " 'updatedAt': '2024-04-23T00:49:51.620233Z',\n",
       " 'closedTime': '2020-11-02 16:31:01+00',\n",
       " 'mailchimpTag': '3917403',\n",
       " 'archived': False,\n",
       " 'restricted': False,\n",
       " 'volumeNum': 32257.45,\n",
       " 'liquidityNum': 0,\n",
       " 'endDateIso': '2020-11-04',\n",
       " 'hasReviewedDates': True,\n",
       " 'readyForCron': True,\n",
       " 'volume24hr': 0,\n",
       " 'volume1wk': 0,\n",
       " 'volume1mo': 0,\n",
       " 'volume1yr': 0,\n",
       " 'clobTokenIds': '[\"53135072462907880191400140706440867753044989936304433583131786753949599718775\", \"60869871469376321574904667328762911501870754872924453995477779862968218702336\"]',\n",
       " 'fpmmLive': True,\n",
       " 'volume1wkAmm': 0,\n",
       " 'volume1moAmm': 0,\n",
       " 'volume1yrAmm': 0,\n",
       " 'volume1wkClob': 0,\n",
       " 'volume1moClob': 0,\n",
       " 'volume1yrClob': 0,\n",
       " 'events': [{'id': '4690',\n",
       "   'ticker': 'will-joe-biden-get-coronavirus-before-the-election',\n",
       "   'slug': 'will-joe-biden-get-coronavirus-before-the-election',\n",
       "   'title': 'Will Joe Biden get Coronavirus before the election?',\n",
       "   'description': 'This is a market on if presidential candidate Joe Biden will test positive for COVID-19 before November 3rd, 2020. This will be defined as Joe publicly announcing - via any medium, including social media - that he has tested positive for COVID-19, or some variation of that statement. If it is in reference to antibodies, or he doesn’t publicly acknowledge it, the market will resolve to No.\\nIn the event of ambiguity in terms of the market outcome, the market will be resolved at the sole discretion of the Markets Integrity Committee (MIC).',\n",
       "   'startDate': '2020-10-02T00:00:00Z',\n",
       "   'creationDate': '2020-10-02T00:00:00Z',\n",
       "   'endDate': '2020-11-04T00:00:00Z',\n",
       "   'image': 'https://polymarket-upload.s3.us-east-2.amazonaws.com/will-joe-biden-get-coronavirus-before-the-election-69e1dbcd-3cfe-4caf-b2af-c00e9ce7186f.png',\n",
       "   'icon': 'https://polymarket-upload.s3.us-east-2.amazonaws.com/will-joe-biden-get-coronavirus-before-the-election-69e1dbcd-3cfe-4caf-b2af-c00e9ce7186f.png',\n",
       "   'active': True,\n",
       "   'closed': True,\n",
       "   'archived': False,\n",
       "   'featured': False,\n",
       "   'restricted': False,\n",
       "   'liquidity': 0,\n",
       "   'volume': 32257.45,\n",
       "   'openInterest': 0,\n",
       "   'sortBy': 'ascending',\n",
       "   'category': 'US-current-affairs',\n",
       "   'published_at': '2022-07-27 14:41:12.085+00',\n",
       "   'createdAt': '2022-07-27T14:41:12.088Z',\n",
       "   'updatedAt': '2024-04-25T18:57:18.376169Z',\n",
       "   'competitive': 0,\n",
       "   'volume24hr': 0,\n",
       "   'volume1wk': 0,\n",
       "   'volume1mo': 0,\n",
       "   'volume1yr': 0,\n",
       "   'liquidityAmm': 0,\n",
       "   'liquidityClob': 0,\n",
       "   'commentCount': 0,\n",
       "   'cyom': False,\n",
       "   'closedTime': '2022-07-27T14:41:12.088Z',\n",
       "   'showAllOutcomes': False,\n",
       "   'showMarketImages': True,\n",
       "   'enableNegRisk': False,\n",
       "   'negRiskAugmented': False,\n",
       "   'pendingDeployment': False,\n",
       "   'deploying': False}],\n",
       " 'creator': '',\n",
       " 'ready': False,\n",
       " 'funded': False,\n",
       " 'cyom': False,\n",
       " 'competitive': 0,\n",
       " 'pagerDutyNotificationEnabled': False,\n",
       " 'approved': True,\n",
       " 'rewardsMinSize': 0,\n",
       " 'rewardsMaxSpread': 0,\n",
       " 'spread': 1,\n",
       " 'oneDayPriceChange': 0,\n",
       " 'oneHourPriceChange': 0,\n",
       " 'oneWeekPriceChange': 0,\n",
       " 'oneMonthPriceChange': 0,\n",
       " 'oneYearPriceChange': 0,\n",
       " 'lastTradePrice': 0,\n",
       " 'bestBid': 0,\n",
       " 'bestAsk': 1,\n",
       " 'clearBookOnStart': True,\n",
       " 'manualActivation': False,\n",
       " 'negRiskOther': False,\n",
       " 'umaResolutionStatuses': '[]',\n",
       " 'pendingDeployment': False,\n",
       " 'deploying': False,\n",
       " 'rfqEnabled': False}"
      ]
     },
     "execution_count": 4,
     "metadata": {},
     "output_type": "execute_result"
    }
   ],
   "execution_count": 4
  },
  {
   "metadata": {
    "ExecuteTime": {
     "end_time": "2025-07-14T17:28:35.540121Z",
     "start_time": "2025-07-14T17:28:35.526619Z"
    }
   },
   "cell_type": "code",
   "source": [
    "with open(\"gamma.json\", \"w\") as f:\n",
    "    json.dump(all_markets_gamma[0], f, indent=2)"
   ],
   "id": "677434b579276207",
   "outputs": [],
   "execution_count": 89
  },
  {
   "metadata": {
    "ExecuteTime": {
     "end_time": "2025-07-14T17:29:01.546902Z",
     "start_time": "2025-07-14T17:28:59.779149Z"
    }
   },
   "cell_type": "code",
   "source": "!datamodel-codegen --input gamma.json --input-file-type json --output gamma_model.py",
   "id": "dce112cdc8bbe9",
   "outputs": [],
   "execution_count": 90
  },
  {
   "metadata": {
    "ExecuteTime": {
     "end_time": "2025-07-14T18:07:52.379460Z",
     "start_time": "2025-07-14T18:07:52.150746Z"
    }
   },
   "cell_type": "code",
   "source": [
    "for i, item in enumerate(all_markets_gamma):\n",
    "    try:\n",
    "        market_obj = GammaModel(**item)\n",
    "    except Exception as e:\n",
    "        print(f\"Validation error at index {i}\")\n",
    "        print(e)\n",
    "        break"
   ],
   "id": "1d82fd56be6614b6",
   "outputs": [
    {
     "name": "stdout",
     "output_type": "stream",
     "text": [
      "Validation error at index 3\n",
      "1 validation error for GammaModel\n",
      "liquidityNum\n",
      "  Input should be a valid integer, got a number with a fractional part [type=int_from_float, input_value=0.18, input_type=float]\n",
      "    For further information visit https://errors.pydantic.dev/2.11/v/int_from_float\n"
     ]
    }
   ],
   "execution_count": 7
  },
  {
   "metadata": {},
   "cell_type": "markdown",
   "source": "# Making sense of the data",
   "id": "f070a9efccc0c6d6"
  },
  {
   "metadata": {
    "ExecuteTime": {
     "end_time": "2025-07-14T18:20:23.668359Z",
     "start_time": "2025-07-14T18:19:16.040158Z"
    }
   },
   "cell_type": "code",
   "source": [
    "start_cursor = \"MA==\"\n",
    "end_cursor = \"LTE=\"\n",
    "all_markets = []\n",
    "\n",
    "next_cursor = start_cursor\n",
    "while next_cursor != \"LTE=\":\n",
    "    response = open_client.get_markets(next_cursor=next_cursor)\n",
    "\n",
    "    markets = response.get(\"data\", [])\n",
    "    all_markets.extend(markets)\n",
    "\n",
    "    # Update cursor\n",
    "    next_cursor = response.get(\"next_cursor\")"
   ],
   "id": "27e18159fd75b18e",
   "outputs": [],
   "execution_count": 31
  },
  {
   "metadata": {
    "ExecuteTime": {
     "end_time": "2025-07-14T18:49:33.357906Z",
     "start_time": "2025-07-14T18:49:33.343588Z"
    }
   },
   "cell_type": "code",
   "source": "len(all_markets)",
   "id": "2ef53af01dedc31d",
   "outputs": [
    {
     "data": {
      "text/plain": [
       "69643"
      ]
     },
     "execution_count": 33,
     "metadata": {},
     "output_type": "execute_result"
    }
   ],
   "execution_count": 33
  },
  {
   "metadata": {
    "ExecuteTime": {
     "end_time": "2025-07-14T18:49:45.260523Z",
     "start_time": "2025-07-14T18:49:45.231483Z"
    }
   },
   "cell_type": "code",
   "source": [
    "active_markets = [\n",
    "    m for m in all_markets\n",
    "    if m.get(\"active\") is True\n",
    "    and m.get(\"closed\") is False\n",
    "    and m.get(\"accepting_orders\") is True\n",
    "]"
   ],
   "id": "2c4ac859fe916b5f",
   "outputs": [],
   "execution_count": 34
  },
  {
   "metadata": {
    "ExecuteTime": {
     "end_time": "2025-07-14T18:49:49.485388Z",
     "start_time": "2025-07-14T18:49:49.471362Z"
    }
   },
   "cell_type": "code",
   "source": "len(active_markets)",
   "id": "3ed6a7b0c7e3d550",
   "outputs": [
    {
     "data": {
      "text/plain": [
       "4492"
      ]
     },
     "execution_count": 35,
     "metadata": {},
     "output_type": "execute_result"
    }
   ],
   "execution_count": 35
  },
  {
   "metadata": {
    "ExecuteTime": {
     "end_time": "2025-07-14T18:50:02.857028Z",
     "start_time": "2025-07-14T18:50:02.841827Z"
    }
   },
   "cell_type": "code",
   "source": "active_markets[0]",
   "id": "cb2f95b2fba95149",
   "outputs": [
    {
     "data": {
      "text/plain": [
       "{'enable_order_book': True,\n",
       " 'active': True,\n",
       " 'closed': False,\n",
       " 'archived': False,\n",
       " 'accepting_orders': True,\n",
       " 'accepting_order_timestamp': '2024-11-10T00:04:33Z',\n",
       " 'minimum_order_size': 5,\n",
       " 'minimum_tick_size': 0.001,\n",
       " 'condition_id': '0x290e8e125c5f8523f21500cc59c186f2c23762da51eec212c9dd956e5dabae3b',\n",
       " 'question_id': '0x2eef1660dff726147edcea90979db633b93121d75a1c95ec122157f6a481c225',\n",
       " 'question': 'Will Trump repeal Presidential term limits?',\n",
       " 'description': 'This market will resolve to \"Yes\" if Donald Trump signs any bill into law that aims to repeal or alter presidential term limits as defined by the 22nd Amendment to the U.S. Constitution, or if the U.S. Supreme Court rules in a way that would permit a president to serve more than two terms by July 31, 2025, at 11:59 PM ET. Otherwise, this market will resolve to \"No.\"\\n\\nAny law signed meeting these criteria will count, even if its implementation is immediately halted or delayed by judicial or other actions.\\n\\nThis market\\'s resolution source will be official information from the Trump administration and U.S. Supreme Court decisions.',\n",
       " 'market_slug': 'will-trump-repeal-presidential-term-limits',\n",
       " 'end_date_iso': '2025-07-31T00:00:00Z',\n",
       " 'game_start_time': None,\n",
       " 'seconds_delay': 0,\n",
       " 'fpmm': '',\n",
       " 'maker_base_fee': 0,\n",
       " 'taker_base_fee': 0,\n",
       " 'notifications_enabled': True,\n",
       " 'neg_risk': False,\n",
       " 'neg_risk_market_id': '',\n",
       " 'neg_risk_request_id': '',\n",
       " 'icon': 'https://polymarket-upload.s3.us-east-2.amazonaws.com/will-trump-repeal-presidential-term-limits-14dlGjvYLT-x.jpg',\n",
       " 'image': 'https://polymarket-upload.s3.us-east-2.amazonaws.com/will-trump-repeal-presidential-term-limits-14dlGjvYLT-x.jpg',\n",
       " 'rewards': {'rates': [{'asset_address': '0x2791Bca1f2de4661ED88A30C99A7a9449Aa84174',\n",
       "    'rewards_daily_rate': 5}],\n",
       "  'min_size': 50,\n",
       "  'max_spread': 3.5},\n",
       " 'is_50_50_outcome': False,\n",
       " 'tokens': [{'token_id': '3796961984592683047724333059166286679049912327822267416870816733710637507501',\n",
       "   'outcome': 'Yes',\n",
       "   'price': 0.01,\n",
       "   'winner': False},\n",
       "  {'token_id': '49752777464497901629052143796178209174998482502782303100115062016623520813466',\n",
       "   'outcome': 'No',\n",
       "   'price': 0.99,\n",
       "   'winner': False}],\n",
       " 'tags': ['Trump',\n",
       "  'Trump Presidency',\n",
       "  'Politics',\n",
       "  'Trending Markets',\n",
       "  'U.S. Politics']}"
      ]
     },
     "execution_count": 36,
     "metadata": {},
     "output_type": "execute_result"
    }
   ],
   "execution_count": 36
  },
  {
   "metadata": {
    "ExecuteTime": {
     "end_time": "2025-07-15T02:59:14.240567Z",
     "start_time": "2025-07-15T02:59:14.226610Z"
    }
   },
   "cell_type": "code",
   "source": [
    "print(active_markets[0][\"condition_id\"])\n",
    "print(active_markets[0][\"market_slug\"])\n",
    "\n",
    "print(active_markets[0][\"active\"])\n",
    "print(active_markets[0][\"closed\"])\n",
    "print(active_markets[0][\"enable_order_book\"])\n",
    "print(active_markets[0][\"accepting_orders\"])\n",
    "print(active_markets[0][\"archived\"])"
   ],
   "id": "40dce18b187305af",
   "outputs": [
    {
     "name": "stdout",
     "output_type": "stream",
     "text": [
      "0x290e8e125c5f8523f21500cc59c186f2c23762da51eec212c9dd956e5dabae3b\n",
      "will-trump-repeal-presidential-term-limits\n",
      "True\n",
      "False\n",
      "True\n",
      "True\n",
      "False\n"
     ]
    }
   ],
   "execution_count": 69
  },
  {
   "metadata": {
    "ExecuteTime": {
     "end_time": "2025-07-15T16:26:12.932587Z",
     "start_time": "2025-07-15T16:26:11.477727Z"
    }
   },
   "cell_type": "code",
   "source": "print(active_markets[0][\"description\"])",
   "id": "39330eb84e551da9",
   "outputs": [
    {
     "name": "stdout",
     "output_type": "stream",
     "text": [
      "This market will resolve to \"Yes\" if Donald Trump signs any bill into law that aims to repeal or alter presidential term limits as defined by the 22nd Amendment to the U.S. Constitution, or if the U.S. Supreme Court rules in a way that would permit a president to serve more than two terms by July 31, 2025, at 11:59 PM ET. Otherwise, this market will resolve to \"No.\"\n",
      "\n",
      "Any law signed meeting these criteria will count, even if its implementation is immediately halted or delayed by judicial or other actions.\n",
      "\n",
      "This market's resolution source will be official information from the Trump administration and U.S. Supreme Court decisions.\n"
     ]
    }
   ],
   "execution_count": 74
  },
  {
   "metadata": {
    "ExecuteTime": {
     "end_time": "2025-07-15T02:59:52.803096Z",
     "start_time": "2025-07-15T02:59:52.789074Z"
    }
   },
   "cell_type": "code",
   "source": "active_markets[20][\"tokens\"]",
   "id": "1858a69a6eea10b1",
   "outputs": [
    {
     "data": {
      "text/plain": [
       "[{'token_id': '61673387045681238454585997121170806826401631642653090831500827557099057497566',\n",
       "  'outcome': 'Yes',\n",
       "  'price': 0.0225,\n",
       "  'winner': False},\n",
       " {'token_id': '75673530794317709253317435585138828689432689207295322743064114581203964183879',\n",
       "  'outcome': 'No',\n",
       "  'price': 0.9775,\n",
       "  'winner': False}]"
      ]
     },
     "execution_count": 73,
     "metadata": {},
     "output_type": "execute_result"
    }
   ],
   "execution_count": 73
  },
  {
   "metadata": {
    "ExecuteTime": {
     "end_time": "2025-07-15T02:59:21.115329Z",
     "start_time": "2025-07-15T02:59:21.101886Z"
    }
   },
   "cell_type": "code",
   "source": "active_markets[0][\"rewards\"]",
   "id": "4a963e8bd4e9ad3d",
   "outputs": [
    {
     "data": {
      "text/plain": [
       "{'rates': [{'asset_address': '0x2791Bca1f2de4661ED88A30C99A7a9449Aa84174',\n",
       "   'rewards_daily_rate': 5}],\n",
       " 'min_size': 50,\n",
       " 'max_spread': 3.5}"
      ]
     },
     "execution_count": 71,
     "metadata": {},
     "output_type": "execute_result"
    }
   ],
   "execution_count": 71
  },
  {
   "metadata": {},
   "cell_type": "code",
   "outputs": [],
   "execution_count": null,
   "source": "",
   "id": "b85d3400030657e5"
  }
 ],
 "metadata": {
  "kernelspec": {
   "display_name": "Python 3",
   "language": "python",
   "name": "python3"
  },
  "language_info": {
   "codemirror_mode": {
    "name": "ipython",
    "version": 2
   },
   "file_extension": ".py",
   "mimetype": "text/x-python",
   "name": "python",
   "nbconvert_exporter": "python",
   "pygments_lexer": "ipython2",
   "version": "2.7.6"
  }
 },
 "nbformat": 4,
 "nbformat_minor": 5
}
